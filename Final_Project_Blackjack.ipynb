{
 "cells": [
  {
   "cell_type": "markdown",
   "metadata": {},
   "source": [
    "# COMP 352 Final Project - Blackjack\n",
    "\n",
    "**Authors:** Joe Cox, Augusto Escudero, Hreinson Vanover\n",
    "\n",
    "**Date:** 12/15/2024"
   ]
  },
  {
   "cell_type": "markdown",
   "metadata": {},
   "source": [
    "## Table of Contents:\n",
    "* [Data Importing and Pre-processing](#data-importing)\n",
    "* [Data Analysis and Visualization](#data-vis)\n",
    "* [Data Analytics](#data-analytics)"
   ]
  },
  {
   "cell_type": "markdown",
   "metadata": {},
   "source": [
    "## Data Importing and Pre-processing <a class=\"anchor\" id=\"data-importing\"></a>"
   ]
  },
  {
   "cell_type": "code",
   "execution_count": 34,
   "metadata": {},
   "outputs": [],
   "source": [
    "# Import needed libraries\n",
    "import pandas as pd\n",
    "from pandas import DataFrame\n",
    "\n",
    "import numpy as np\n",
    "import matplotlib.pyplot as plt\n",
    "\n",
    "from sklearn.preprocessing import MinMaxScaler"
   ]
  },
  {
   "cell_type": "code",
   "execution_count": 13,
   "metadata": {},
   "outputs": [],
   "source": [
    "# Read in csv file\n",
    "# Using local file instead of uploading to repository\n",
    "# Size is 3.63GB\n",
    "\n",
    "# Import dataset into Pandas DataFrame\n",
    "blackjack_df = pd.read_csv(\"blackjack_simulator.csv\")"
   ]
  },
  {
   "cell_type": "code",
   "execution_count": 31,
   "metadata": {},
   "outputs": [
    {
     "name": "stdout",
     "output_type": "stream",
     "text": [
      "Dataset shape (rows, columns):  (50000000, 12)\n",
      "\n",
      "Column types:\n",
      "---------\n",
      "Number of numerical variables:  6\n",
      "Number of numerical variables:  6\n",
      "Data types: \n",
      "---------\n",
      "shoe_id               float64\n",
      "cards_remaining       float64\n",
      "dealer_up             float64\n",
      "initial_hand           object\n",
      "dealer_final           object\n",
      "dealer_final_value     object\n",
      "player_final           object\n",
      "player_final_value     object\n",
      "actions_taken          object\n",
      "run_count             float64\n",
      "true_count            float64\n",
      "win                   float64\n",
      "dtype: object\n"
     ]
    }
   ],
   "source": [
    "# Describing characteristics\n",
    "\n",
    "print(\"Dataset shape (rows, columns): \", blackjack_df.shape)\n",
    "\n",
    "numerical_columns = blackjack_df.select_dtypes(include=['int64', 'float64']).columns\n",
    "categorical_columns = blackjack_df.select_dtypes(include=['object', 'category']).columns\n",
    "\n",
    "print('\\nColumn types:')\n",
    "print('---'*3)\n",
    "print('Number of numerical variables: ', len(numerical_columns))\n",
    "print('Number of numerical variables: ', len(categorical_columns))\n",
    "\n",
    "print(\"Data types: \")\n",
    "print(\"---\"*3)\n",
    "print(blackjack_df.dtypes)"
   ]
  },
  {
   "cell_type": "code",
   "execution_count": 32,
   "metadata": {},
   "outputs": [
    {
     "data": {
      "text/plain": [
       "Index(['shoe_id', 'cards_remaining', 'dealer_up', 'initial_hand',\n",
       "       'dealer_final', 'dealer_final_value', 'player_final',\n",
       "       'player_final_value', 'actions_taken', 'run_count', 'true_count',\n",
       "       'win'],\n",
       "      dtype='object')"
      ]
     },
     "execution_count": 32,
     "metadata": {},
     "output_type": "execute_result"
    }
   ],
   "source": [
    "# Check column names\n",
    "blackjack_df.columns"
   ]
  },
  {
   "cell_type": "code",
   "execution_count": 26,
   "metadata": {},
   "outputs": [
    {
     "data": {
      "text/html": [
       "<div>\n",
       "<style scoped>\n",
       "    .dataframe tbody tr th:only-of-type {\n",
       "        vertical-align: middle;\n",
       "    }\n",
       "\n",
       "    .dataframe tbody tr th {\n",
       "        vertical-align: top;\n",
       "    }\n",
       "\n",
       "    .dataframe thead th {\n",
       "        text-align: right;\n",
       "    }\n",
       "</style>\n",
       "<table border=\"1\" class=\"dataframe\">\n",
       "  <thead>\n",
       "    <tr style=\"text-align: right;\">\n",
       "      <th></th>\n",
       "      <th>shoe_id</th>\n",
       "      <th>cards_remaining</th>\n",
       "      <th>dealer_up</th>\n",
       "      <th>initial_hand</th>\n",
       "      <th>dealer_final</th>\n",
       "      <th>dealer_final_value</th>\n",
       "      <th>player_final</th>\n",
       "      <th>player_final_value</th>\n",
       "      <th>actions_taken</th>\n",
       "      <th>run_count</th>\n",
       "      <th>true_count</th>\n",
       "      <th>win</th>\n",
       "    </tr>\n",
       "  </thead>\n",
       "  <tbody>\n",
       "    <tr>\n",
       "      <th>0</th>\n",
       "      <td>0.0</td>\n",
       "      <td>1.000000</td>\n",
       "      <td>0.888889</td>\n",
       "      <td>[10, 11]</td>\n",
       "      <td>[10, 4, 10]</td>\n",
       "      <td>24</td>\n",
       "      <td>[[10, 11]]</td>\n",
       "      <td>['BJ']</td>\n",
       "      <td>[['S']]</td>\n",
       "      <td>0.510638</td>\n",
       "      <td>0.5</td>\n",
       "      <td>0.59375</td>\n",
       "    </tr>\n",
       "    <tr>\n",
       "      <th>1</th>\n",
       "      <td>0.0</td>\n",
       "      <td>0.985163</td>\n",
       "      <td>0.888889</td>\n",
       "      <td>[5, 5]</td>\n",
       "      <td>[10, 8]</td>\n",
       "      <td>18</td>\n",
       "      <td>[[5, 5, 11]]</td>\n",
       "      <td>[21]</td>\n",
       "      <td>[['H', 'S']]</td>\n",
       "      <td>0.478723</td>\n",
       "      <td>0.5</td>\n",
       "      <td>0.56250</td>\n",
       "    </tr>\n",
       "    <tr>\n",
       "      <th>2</th>\n",
       "      <td>0.0</td>\n",
       "      <td>0.970326</td>\n",
       "      <td>0.444444</td>\n",
       "      <td>[3, 10]</td>\n",
       "      <td>[6, 6, 10]</td>\n",
       "      <td>22</td>\n",
       "      <td>[[3, 10]]</td>\n",
       "      <td>[13]</td>\n",
       "      <td>[['S']]</td>\n",
       "      <td>0.478723</td>\n",
       "      <td>0.5</td>\n",
       "      <td>0.56250</td>\n",
       "    </tr>\n",
       "    <tr>\n",
       "      <th>3</th>\n",
       "      <td>0.0</td>\n",
       "      <td>0.955490</td>\n",
       "      <td>0.888889</td>\n",
       "      <td>[5, 9]</td>\n",
       "      <td>[10, 8]</td>\n",
       "      <td>18</td>\n",
       "      <td>[[5, 9, 11, 3]]</td>\n",
       "      <td>[18]</td>\n",
       "      <td>[['H', 'H', 'S']]</td>\n",
       "      <td>0.489362</td>\n",
       "      <td>0.5</td>\n",
       "      <td>0.50000</td>\n",
       "    </tr>\n",
       "    <tr>\n",
       "      <th>4</th>\n",
       "      <td>0.0</td>\n",
       "      <td>0.937685</td>\n",
       "      <td>0.666667</td>\n",
       "      <td>[6, 10]</td>\n",
       "      <td>[8, 2, 10]</td>\n",
       "      <td>20</td>\n",
       "      <td>[[6, 10, 10]]</td>\n",
       "      <td>[26]</td>\n",
       "      <td>[['H']]</td>\n",
       "      <td>0.489362</td>\n",
       "      <td>0.5</td>\n",
       "      <td>0.43750</td>\n",
       "    </tr>\n",
       "  </tbody>\n",
       "</table>\n",
       "</div>"
      ],
      "text/plain": [
       "   shoe_id  cards_remaining  dealer_up  ... run_count true_count      win\n",
       "0      0.0         1.000000   0.888889  ...  0.510638        0.5  0.59375\n",
       "1      0.0         0.985163   0.888889  ...  0.478723        0.5  0.56250\n",
       "2      0.0         0.970326   0.444444  ...  0.478723        0.5  0.56250\n",
       "3      0.0         0.955490   0.888889  ...  0.489362        0.5  0.50000\n",
       "4      0.0         0.937685   0.666667  ...  0.489362        0.5  0.43750\n",
       "\n",
       "[5 rows x 12 columns]"
      ]
     },
     "execution_count": 26,
     "metadata": {},
     "output_type": "execute_result"
    }
   ],
   "source": [
    "blackjack_df.head()"
   ]
  },
  {
   "cell_type": "code",
   "execution_count": null,
   "metadata": {},
   "outputs": [
    {
     "data": {
      "text/html": [
       "<div>\n",
       "<style scoped>\n",
       "    .dataframe tbody tr th:only-of-type {\n",
       "        vertical-align: middle;\n",
       "    }\n",
       "\n",
       "    .dataframe tbody tr th {\n",
       "        vertical-align: top;\n",
       "    }\n",
       "\n",
       "    .dataframe thead th {\n",
       "        text-align: right;\n",
       "    }\n",
       "</style>\n",
       "<table border=\"1\" class=\"dataframe\">\n",
       "  <thead>\n",
       "    <tr style=\"text-align: right;\">\n",
       "      <th></th>\n",
       "      <th>Total</th>\n",
       "      <th>Percent</th>\n",
       "    </tr>\n",
       "  </thead>\n",
       "  <tbody>\n",
       "    <tr>\n",
       "      <th>shoe_id</th>\n",
       "      <td>0</td>\n",
       "      <td>0.0</td>\n",
       "    </tr>\n",
       "    <tr>\n",
       "      <th>cards_remaining</th>\n",
       "      <td>0</td>\n",
       "      <td>0.0</td>\n",
       "    </tr>\n",
       "    <tr>\n",
       "      <th>dealer_up</th>\n",
       "      <td>0</td>\n",
       "      <td>0.0</td>\n",
       "    </tr>\n",
       "    <tr>\n",
       "      <th>initial_hand</th>\n",
       "      <td>0</td>\n",
       "      <td>0.0</td>\n",
       "    </tr>\n",
       "    <tr>\n",
       "      <th>dealer_final</th>\n",
       "      <td>0</td>\n",
       "      <td>0.0</td>\n",
       "    </tr>\n",
       "    <tr>\n",
       "      <th>dealer_final_value</th>\n",
       "      <td>0</td>\n",
       "      <td>0.0</td>\n",
       "    </tr>\n",
       "    <tr>\n",
       "      <th>player_final</th>\n",
       "      <td>0</td>\n",
       "      <td>0.0</td>\n",
       "    </tr>\n",
       "    <tr>\n",
       "      <th>player_final_value</th>\n",
       "      <td>0</td>\n",
       "      <td>0.0</td>\n",
       "    </tr>\n",
       "    <tr>\n",
       "      <th>actions_taken</th>\n",
       "      <td>0</td>\n",
       "      <td>0.0</td>\n",
       "    </tr>\n",
       "    <tr>\n",
       "      <th>run_count</th>\n",
       "      <td>0</td>\n",
       "      <td>0.0</td>\n",
       "    </tr>\n",
       "    <tr>\n",
       "      <th>true_count</th>\n",
       "      <td>0</td>\n",
       "      <td>0.0</td>\n",
       "    </tr>\n",
       "    <tr>\n",
       "      <th>win</th>\n",
       "      <td>0</td>\n",
       "      <td>0.0</td>\n",
       "    </tr>\n",
       "  </tbody>\n",
       "</table>\n",
       "</div>"
      ],
      "text/plain": [
       "                    Total  Percent\n",
       "shoe_id                 0      0.0\n",
       "cards_remaining         0      0.0\n",
       "dealer_up               0      0.0\n",
       "initial_hand            0      0.0\n",
       "dealer_final            0      0.0\n",
       "dealer_final_value      0      0.0\n",
       "player_final            0      0.0\n",
       "player_final_value      0      0.0\n",
       "actions_taken           0      0.0\n",
       "run_count               0      0.0\n",
       "true_count              0      0.0\n",
       "win                     0      0.0"
      ]
     },
     "execution_count": 33,
     "metadata": {},
     "output_type": "execute_result"
    }
   ],
   "source": [
    "# Handle missing values\n",
    "# NOTE: there are no missing values in the data\n",
    "\n",
    "# total = blackjack_df.isnull().sum().sort_values(ascending=False)\n",
    "# percent = (blackjack_df.isnull().sum() / blackjack_df.isnull().count()).sort_values(\n",
    "#     ascending=False\n",
    "# )\n",
    "\n",
    "# missing_data = pd.concat([total, percent], axis=1, keys=[\"Total\", \"Percent\"])\n",
    "# missing_data.head(20)"
   ]
  },
  {
   "cell_type": "markdown",
   "metadata": {},
   "source": [
    "## Data Analysis and Visualization <a class=\"anchor\" id=\"data-vis\"></a>"
   ]
  },
  {
   "cell_type": "markdown",
   "metadata": {},
   "source": [
    "## Data Analytics <a class=\"anchor\" id=\"data-analytics\"></a>"
   ]
  }
 ],
 "metadata": {
  "kernelspec": {
   "display_name": "Python 3",
   "language": "python",
   "name": "python3"
  },
  "language_info": {
   "codemirror_mode": {
    "name": "ipython",
    "version": 3
   },
   "file_extension": ".py",
   "mimetype": "text/x-python",
   "name": "python",
   "nbconvert_exporter": "python",
   "pygments_lexer": "ipython3",
   "version": "3.13.1"
  }
 },
 "nbformat": 4,
 "nbformat_minor": 2
}
